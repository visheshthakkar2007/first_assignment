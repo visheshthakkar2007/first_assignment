{
  "nbformat": 4,
  "nbformat_minor": 0,
  "metadata": {
    "colab": {
      "provenance": [],
      "authorship_tag": "ABX9TyMuB0CDc8dKI0BDn1sS4YLT",
      "include_colab_link": true
    },
    "kernelspec": {
      "name": "python3",
      "display_name": "Python 3"
    },
    "language_info": {
      "name": "python"
    }
  },
  "cells": [
    {
      "cell_type": "markdown",
      "metadata": {
        "id": "view-in-github",
        "colab_type": "text"
      },
      "source": [
        "<a href=\"https://colab.research.google.com/github/visheshthakkar2007/first_assignment/blob/main/OOPS.ipynb\" target=\"_parent\"><img src=\"https://colab.research.google.com/assets/colab-badge.svg\" alt=\"Open In Colab\"/></a>"
      ]
    },
    {
      "cell_type": "markdown",
      "source": [
        "1.What are the five key concepts of Object-Oriented Programming (OOP)?\n",
        "\n",
        "\n",
        "Answer-\n",
        "\n",
        "\n",
        "The five key concepts of Object-Oriented Programming (OOP) are:\n",
        "\n",
        "1. Encapsulation:\n",
        "   \n",
        "   This concept involves bundling the data (attributes) and methods (functions) that operate on the data into a single unit or class. It also involves restricting access to some of the object's components, which is often done by using access modifiers like `private`, `protected`, and `public`. This helps in protecting the object's internal state and prevents unauthorized access.\n",
        "\n",
        "2. Abstraction:\n",
        "   \n",
        "    Abstraction is the concept of hiding the complex implementation details and showing only the essential features of an object. It allows users to interact with objects at a higher level without needing to understand the intricate workings inside. This is typically achieved using abstract classes and interfaces, which provide a blueprint for other classes to implement.\n",
        "\n",
        "3. Inheritance:\n",
        "   \n",
        "    Inheritance allows one class (child or subclass) to inherit the properties and behaviors (methods) of another class (parent or superclass). This promotes code reuse and establishes a relationship between the parent and child classes, allowing the child class to extend or modify the inherited behaviors.\n",
        "\n",
        "4. Polymorphism:\n",
        "   \n",
        "    Polymorphism enables objects to be treated as instances of their parent class, even if they are actually instances of subclasses. The most common use of polymorphism is through method overriding (where a subclass provides its own version of a method defined in the superclass) and method overloading (where multiple methods with the same name can exist with different parameters).\n",
        "\n",
        "5. Composition (often considered as the fifth key concept):\n",
        "   \n",
        "   Composition refers to a design principle where an object is composed of other objects, rather than inheriting from them. It is a way of building complex objects by combining simpler objects, promoting greater flexibility and reducing the tight coupling seen in inheritance.\n",
        "\n",
        "These five principles together help create software that is modular, reusable, and easier to maintain."
      ],
      "metadata": {
        "id": "HG6KyhEB0GJY"
      }
    },
    {
      "cell_type": "markdown",
      "source": [
        "2.Write a Python class for a `Car` with attributes for `make`, `model`, and `year`. Include a method to display the car's information.\n",
        "\n",
        "\n",
        "Answer-\n",
        "\n",
        "\n"
      ],
      "metadata": {
        "id": "9EjNuyiP0kte"
      }
    },
    {
      "cell_type": "code",
      "source": [
        "class Car:\n",
        "    # Constructor to initialize the car's attributes\n",
        "    def __init__(self, make, model, year):\n",
        "        self.make = make\n",
        "        self.model = model\n",
        "        self.year = year\n",
        "\n",
        "    # Method to display the car's information\n",
        "    def display_info(self):\n",
        "        print(f\"Car Information: {self.year} {self.make} {self.model}\")\n",
        "\n",
        "# Example usage:\n",
        "my_car = Car(\"Toyota\", \"Camry\", 2022)\n",
        "my_car.display_info()  # Output: Car Information: 2022 Toyota Camry\n"
      ],
      "metadata": {
        "colab": {
          "base_uri": "https://localhost:8080/"
        },
        "id": "Sp2GL-xD1YGw",
        "outputId": "fad49740-c141-4a07-ebb6-26b69d9cfcbc"
      },
      "execution_count": null,
      "outputs": [
        {
          "output_type": "stream",
          "name": "stdout",
          "text": [
            "Car Information: 2022 Toyota Camry\n"
          ]
        }
      ]
    },
    {
      "cell_type": "markdown",
      "source": [
        "3.Explain the difference between instance methods and class methods. Provide an example of each.\n",
        "\n",
        "\n",
        "Answer-\n",
        "\n",
        "\n",
        "In Python, instance methods and class methods are two types of methods that belong to a class but are used in different contexts and serve different purposes. Here's a breakdown of the differences between them:\n",
        "\n",
        "1. Instance Methods\n",
        "\n",
        "\n",
        "Definition: Instance methods are regular methods that operate on instances (objects) of a class. They take at least one parameter, self, which refers to the instance of the class.\n",
        "\n",
        "\n",
        "Purpose: They are used to interact with or modify the attributes of the specific instance of the class.\n",
        "\n",
        "\n",
        "Invocation: Instance methods are called on an object (instance) of the class.\n",
        "\n",
        "\n",
        "Class Methods\n",
        "\n",
        "\n",
        "Definition: Class methods are methods that belong to the class itself, rather than to instances of the class. They take at least one parameter, cls, which refers to the class itself (not an instance of the class).\n",
        "\n",
        "\n",
        "Purpose: Class methods are often used for factory methods, alternate constructors, or operations that affect the class itself, rather than individual instances.\n",
        "\n",
        "\n",
        "Invocation: Class methods are called on the class, not an instance."
      ],
      "metadata": {
        "id": "B7-zqULs111y"
      }
    },
    {
      "cell_type": "code",
      "source": [
        "#example of instance method\n",
        "class Car:\n",
        "    def __init__(self, make, model, year):\n",
        "        self.make = make\n",
        "        self.model = model\n",
        "        self.year = year\n",
        "\n",
        "    # Instance method\n",
        "    def display_info(self):\n",
        "        print(f\"Car Information: {self.year} {self.make} {self.model}\")\n",
        "\n",
        "# Create an instance of the Car class\n",
        "my_car = Car(\"Toyota\", \"Camry\", 2022)\n",
        "my_car.display_info()  # Output: Car Information: 2022 Toyota Camry\n"
      ],
      "metadata": {
        "colab": {
          "base_uri": "https://localhost:8080/"
        },
        "id": "NQiLxb4P4DMc",
        "outputId": "751e08aa-d4dc-4c7e-9f2e-98142b339cf7"
      },
      "execution_count": null,
      "outputs": [
        {
          "output_type": "stream",
          "name": "stdout",
          "text": [
            "Car Information: 2022 Toyota Camry\n"
          ]
        }
      ]
    },
    {
      "cell_type": "code",
      "source": [
        "#example of class method\n",
        "class Car:\n",
        "    # Class attribute\n",
        "    wheels = 4\n",
        "\n",
        "    def __init__(self, make, model, year):\n",
        "        self.make = make\n",
        "        self.model = model\n",
        "        self.year = year\n",
        "\n",
        "    # Class method\n",
        "    @classmethod\n",
        "    def change_wheels(cls, new_count):\n",
        "        cls.wheels = new_count\n",
        "        print(f\"Number of wheels set to {cls.wheels}\")\n",
        "\n",
        "# Call the class method\n",
        "Car.change_wheels(6)  # Output: Number of wheels set to 6\n"
      ],
      "metadata": {
        "colab": {
          "base_uri": "https://localhost:8080/"
        },
        "id": "vZkGsNFa4OX-",
        "outputId": "d9ca92bb-afdc-4232-ed05-4a4f5c620d23"
      },
      "execution_count": null,
      "outputs": [
        {
          "output_type": "stream",
          "name": "stdout",
          "text": [
            "Number of wheels set to 6\n"
          ]
        }
      ]
    },
    {
      "cell_type": "markdown",
      "source": [
        "4.How does Python implement method overloading? Give an example.\n",
        "\n",
        "\n",
        "Answer-\n",
        "\n",
        "\n",
        "Python does not natively support method overloading in the same way as some other languages like Java or C++. However, Python allows method overloading-like behavior by using default arguments or variable-length arguments (*args, **kwargs). This gives flexibility in how methods can be defined and called, effectively mimicking overloading.\n",
        "\n",
        "\n",
        "\n",
        "Approach 1: Using Default Arguments\n",
        "Python allows a method to accept default arguments. This allows a single method to handle different numbers of arguments.\n",
        "\n",
        "\n",
        "Approach 2: Using Variable-Length Arguments (*args)\n",
        "If you need more flexibility, you can use *args to handle an arbitrary number of arguments.\n",
        "\n",
        "\n",
        "Approach 3: Using @staticmethod with Different Signatures\n",
        "Another way to simulate method overloading is by defining multiple methods with different argument types (though it can lead to confusion). You might use type checking or raise exceptions if an unsupported combination of arguments is passed.\n",
        "\n",
        "\n",
        "Conclusion\n",
        "\n",
        "\n",
        "While Python doesn’t support traditional method overloading (where you have multiple methods with the same name but different signatures), it provides flexibility using default arguments, variable-length arguments, and other techniques like type checking within a method. These approaches help achieve similar functionality."
      ],
      "metadata": {
        "id": "fSoCWYLZ9EGR"
      }
    },
    {
      "cell_type": "code",
      "source": [
        "#using different arguments\n",
        "class Calculator:\n",
        "    def add(self, a, b=0):\n",
        "        return a + b\n",
        "\n",
        "calc = Calculator()\n",
        "print(calc.add(10))     # Output: 10 (uses default value for b)\n",
        "print(calc.add(10, 5))  # Output: 15 (explicitly passes both arguments)\n"
      ],
      "metadata": {
        "colab": {
          "base_uri": "https://localhost:8080/"
        },
        "id": "lMrREODg97r8",
        "outputId": "a0089fb2-9c07-4d59-f26c-940488b49f0e"
      },
      "execution_count": 4,
      "outputs": [
        {
          "output_type": "stream",
          "name": "stdout",
          "text": [
            "10\n",
            "15\n"
          ]
        }
      ]
    },
    {
      "cell_type": "code",
      "source": [
        "#using args\n",
        "class Calculator:\n",
        "    def add(self, *args):\n",
        "        return sum(args)\n",
        "\n",
        "calc = Calculator()\n",
        "print(calc.add(1, 2))          # Output: 3 (adds 1 + 2)\n",
        "print(calc.add(1, 2, 3, 4))    # Output: 10 (adds 1 + 2 + 3 + 4)\n"
      ],
      "metadata": {
        "colab": {
          "base_uri": "https://localhost:8080/"
        },
        "id": "yl-fSni099zt",
        "outputId": "5ce0c16d-d477-4b50-a8b3-c8a224cc9a8d"
      },
      "execution_count": 2,
      "outputs": [
        {
          "output_type": "stream",
          "name": "stdout",
          "text": [
            "3\n",
            "10\n"
          ]
        }
      ]
    },
    {
      "cell_type": "code",
      "source": [
        "#using staticmethod\n",
        "class Printer:\n",
        "    def print_message(self, *args):\n",
        "        if len(args) == 1 and isinstance(args[0], str):\n",
        "            print(f\"Message: {args[0]}\")\n",
        "        elif len(args) == 2 and isinstance(args[0], str) and isinstance(args[1], int):\n",
        "            print(f\"Message: {args[0]}, Repeat {args[1]} times\")\n",
        "            print((args[0] + ' ') * args[1])\n",
        "        else:\n",
        "            print(\"Invalid arguments!\")\n",
        "\n",
        "printer = Printer()\n",
        "printer.print_message(\"Hello\")               # Output: Message: Hello\n",
        "printer.print_message(\"Hello\", 3)             # Output: Message: Hello, Repeat 3 times\n",
        "                                              #         Hello Hello Hello\n",
        "printer.print_message(3, \"Hello\")             # Output: Invalid arguments!\n"
      ],
      "metadata": {
        "colab": {
          "base_uri": "https://localhost:8080/"
        },
        "id": "YXX--Pw0999z",
        "outputId": "26f59564-f529-4d95-d278-388a61a6c04e"
      },
      "execution_count": 3,
      "outputs": [
        {
          "output_type": "stream",
          "name": "stdout",
          "text": [
            "Message: Hello\n",
            "Message: Hello, Repeat 3 times\n",
            "Hello Hello Hello \n",
            "Invalid arguments!\n"
          ]
        }
      ]
    },
    {
      "cell_type": "markdown",
      "source": [
        "5.What are the three types of access modifiers in Python? How are they denoted?\n",
        "\n",
        "\n",
        "Answer-\n",
        "\n",
        "\n",
        "In Python, access modifiers control the visibility and accessibility of class attributes and methods. Although Python does not have strict access control like other languages such as Java, it uses a convention-based approach to indicate the level of access. Python has three main types of access modifiers:\n",
        "\n",
        "\n",
        "\n",
        "1. Public Access Modifier\n",
        "Denoted by: No underscore prefix (e.g., variable or method()).\n",
        "\n",
        "\n",
        "Description: Public members (variables and methods) are accessible from anywhere — both inside and outside the class. By default, all members in a class are public.\n",
        "\n",
        "\n",
        "2. Protected Access Modifier\n",
        "\n",
        "\n",
        "Denoted by: A single underscore prefix (e.g., _variable or _method()).\n",
        "\n",
        "\n",
        "Description: Protected members are meant to be accessible within the class and by subclasses (derived classes). The underscore is a convention and does not prevent access, but it signals that the member is intended for internal use and should not be accessed directly outside the class hierarchy.\n",
        "\n",
        "\n",
        " 3. Private Access Modifier\n",
        "\n",
        "\n",
        "Denoted by: A double underscore prefix (e.g., __variable or __method()).\n",
        "\n",
        "\n",
        "Description: Private members are intended to be used only within the class they are defined in. The double underscore triggers name mangling in Python, which changes the name of the member to make it harder (but not impossible) to access from outside the class. However, private members can still be accessed by using the mangled name, though this is discouraged as it breaks the encapsulation principle.\n",
        "\n",
        "\n"
      ],
      "metadata": {
        "id": "7JNe2QKW-YVk"
      }
    },
    {
      "cell_type": "code",
      "source": [
        "class MyClass:\n",
        "    def __init__(self):\n",
        "        self.public_var = 10  # Public variable\n",
        "\n",
        "    def public_method(self):\n",
        "        return \"This is a public method\"\n",
        "\n",
        "# Accessing public members\n",
        "obj = MyClass()\n",
        "print(obj.public_var)  # Output: 10\n",
        "print(obj.public_method())  # Output: This is a public method\n"
      ],
      "metadata": {
        "colab": {
          "base_uri": "https://localhost:8080/"
        },
        "id": "dJu6Ls1cBB-P",
        "outputId": "e0ccd694-06fd-4ae8-d2f0-3e922e5151a5"
      },
      "execution_count": 5,
      "outputs": [
        {
          "output_type": "stream",
          "name": "stdout",
          "text": [
            "10\n",
            "This is a public method\n"
          ]
        }
      ]
    },
    {
      "cell_type": "code",
      "source": [
        "class MyClass:\n",
        "    def __init__(self):\n",
        "        self._protected_var = 20  # Protected variable\n",
        "\n",
        "    def _protected_method(self):\n",
        "        return \"This is a protected method\"\n",
        "\n",
        "class DerivedClass(MyClass):\n",
        "    def access_protected(self):\n",
        "        return self._protected_var  # Can access protected member in subclass\n",
        "\n",
        "# Accessing protected members\n",
        "obj = DerivedClass()\n",
        "print(obj.access_protected())  # Output: 20\n",
        "print(obj._protected_var)  # It's possible to access but not recommended (Output: 20)\n"
      ],
      "metadata": {
        "colab": {
          "base_uri": "https://localhost:8080/"
        },
        "id": "Kjj-QR0xBGfe",
        "outputId": "2cc72a25-8522-403f-f5b3-9815e8c72d1e"
      },
      "execution_count": 6,
      "outputs": [
        {
          "output_type": "stream",
          "name": "stdout",
          "text": [
            "20\n",
            "20\n"
          ]
        }
      ]
    },
    {
      "cell_type": "code",
      "source": [
        "class MyClass:\n",
        "    def __init__(self):\n",
        "        self.__private_var = 30  # Private variable\n",
        "\n",
        "    def __private_method(self):\n",
        "        return \"This is a private method\"\n",
        "\n",
        "    def access_private(self):\n",
        "        return self.__private_var  # Accessing private member within the class\n",
        "\n",
        "# Accessing private members\n",
        "obj = MyClass()\n",
        "\n",
        "# print(obj.__private_var)  # This would raise an AttributeError\n",
        "\n",
        "# Access through a class method (allowed)\n",
        "print(obj.access_private())  # Output: 30\n",
        "\n",
        "# Access private variable using name mangling (not recommended)\n",
        "print(obj._MyClass__private_var)  # Output: 30\n"
      ],
      "metadata": {
        "colab": {
          "base_uri": "https://localhost:8080/"
        },
        "id": "U_mmQGm2BGtd",
        "outputId": "79a561ab-8b4f-4812-8945-0923bf5ae8ef"
      },
      "execution_count": 7,
      "outputs": [
        {
          "output_type": "stream",
          "name": "stdout",
          "text": [
            "30\n",
            "30\n"
          ]
        }
      ]
    },
    {
      "cell_type": "markdown",
      "source": [
        "6.Describe the five types of inheritance in Python. Provide a simple example of multiple inheritance.\n",
        "\n",
        "\n",
        "\n",
        "Answer-\n",
        "\n",
        "\n",
        "In Python, inheritance allows one class (child or subclass) to inherit attributes and methods from another class (parent or superclass). Python supports several types of inheritance, which can be combined in various ways. Here are the five types of inheritance in Python:\n",
        "\n",
        "1. Single Inheritance\n",
        "\n",
        "\n",
        "In single inheritance, a subclass inherits from a single superclass.\n",
        "\n",
        "\n",
        "\n",
        "Example:\n",
        "One class inherits from another, gaining access to its methods and attributes.\n",
        "\n",
        "\n",
        "\n",
        "2. Multiple Inheritance\n",
        "\n",
        "\n",
        "In multiple inheritance, a subclass inherits from more than one superclass. This allows the subclass to inherit methods and attributes from all its parent classes.\n",
        "\n",
        "\n",
        "\n",
        "Example:\n",
        "A class can inherit from multiple classes, and Python resolves method calls based on the method resolution order (MRO).\n",
        "\n",
        "\n",
        "3. Multilevel Inheritance\n",
        "\n",
        "\n",
        "In multilevel inheritance, a class derives from another class, which is also derived from another class, forming a chain of inheritance.\n",
        "\n",
        "\n",
        "\n",
        "Example:\n",
        "Class C inherits from B, and class B inherits from A.\n",
        "\n",
        "\n",
        "4. Hierarchical Inheritance\n",
        "\n",
        "\n",
        "In hierarchical inheritance, multiple subclasses inherit from a single superclass. All subclasses share the common attributes and methods of the superclass.\n",
        "\n",
        "\n",
        "\n",
        "Example:\n",
        "Both Dog and Cat inherit from the same Animal class.\n",
        "\n",
        "\n",
        "5. Hybrid Inheritance\n",
        "\n",
        "\n",
        "\n",
        "Hybrid inheritance is a combination of two or more of the above types of inheritance. It can involve multiple, multilevel, or hierarchical inheritance patterns together.\n",
        "\n",
        "\n",
        "\n",
        "Example:\n",
        "A class inherits from more than one class (multiple inheritance), and one or more of those parent classes could also be part of a chain (multilevel inheritance).\n",
        "\n",
        "\n",
        "\n"
      ],
      "metadata": {
        "id": "Z0qw8W_tBTEU"
      }
    },
    {
      "cell_type": "code",
      "source": [
        "#single inheritance\n",
        "class Animal:\n",
        "    def speak(self):\n",
        "        print(\"Animal makes a sound.\")\n",
        "\n",
        "class Dog(Animal):\n",
        "    def bark(self):\n",
        "        print(\"Dog barks.\")\n",
        "\n",
        "# Example usage\n",
        "dog = Dog()\n",
        "dog.speak()  # Inherited from Animal class\n",
        "dog.bark()   # Defined in Dog class\n"
      ],
      "metadata": {
        "colab": {
          "base_uri": "https://localhost:8080/"
        },
        "id": "mPSlGiN8CiSa",
        "outputId": "e9a8b977-562d-4a4e-aa76-e2f74d40e00a"
      },
      "execution_count": 8,
      "outputs": [
        {
          "output_type": "stream",
          "name": "stdout",
          "text": [
            "Animal makes a sound.\n",
            "Dog barks.\n"
          ]
        }
      ]
    },
    {
      "cell_type": "code",
      "source": [
        "#mutiple inheritance\n",
        "class Animal:\n",
        "    def speak(self):\n",
        "        print(\"Animal makes a sound.\")\n",
        "\n",
        "class Mammal:\n",
        "    def has_fur(self):\n",
        "        print(\"Mammals have fur.\")\n",
        "\n",
        "class Dog(Animal, Mammal):\n",
        "    def bark(self):\n",
        "        print(\"Dog barks.\")\n",
        "\n",
        "# Example usage\n",
        "dog = Dog()\n",
        "dog.speak()  # Inherited from Animal class\n",
        "dog.has_fur()  # Inherited from Mammal class\n",
        "dog.bark()  # Defined in Dog class\n",
        "\n"
      ],
      "metadata": {
        "colab": {
          "base_uri": "https://localhost:8080/"
        },
        "id": "YEfoxuiwCife",
        "outputId": "80a31cef-8bad-4ed2-d264-800c208cd59b"
      },
      "execution_count": 9,
      "outputs": [
        {
          "output_type": "stream",
          "name": "stdout",
          "text": [
            "Animal makes a sound.\n",
            "Mammals have fur.\n",
            "Dog barks.\n"
          ]
        }
      ]
    },
    {
      "cell_type": "code",
      "source": [
        "#multilevel inheritance\n",
        "class Animal:\n",
        "    def speak(self):\n",
        "        print(\"Animal makes a sound.\")\n",
        "\n",
        "class Mammal(Animal):\n",
        "    def has_fur(self):\n",
        "        print(\"Mammals have fur.\")\n",
        "\n",
        "class Dog(Mammal):\n",
        "    def bark(self):\n",
        "        print(\"Dog barks.\")\n",
        "\n",
        "# Example usage\n",
        "dog = Dog()\n",
        "dog.speak()  # Inherited from Animal class\n",
        "dog.has_fur()  # Inherited from Mammal class\n",
        "dog.bark()  # Defined in Dog class\n"
      ],
      "metadata": {
        "colab": {
          "base_uri": "https://localhost:8080/"
        },
        "id": "8lll4FNACisz",
        "outputId": "ba78b1b4-cb38-4c66-f705-1ebb844525d4"
      },
      "execution_count": 10,
      "outputs": [
        {
          "output_type": "stream",
          "name": "stdout",
          "text": [
            "Animal makes a sound.\n",
            "Mammals have fur.\n",
            "Dog barks.\n"
          ]
        }
      ]
    },
    {
      "cell_type": "code",
      "source": [
        "#hierarchical inheritance\n",
        "class Animal:\n",
        "    def speak(self):\n",
        "        print(\"Animal makes a sound.\")\n",
        "\n",
        "class Dog(Animal):\n",
        "    def bark(self):\n",
        "        print(\"Dog barks.\")\n",
        "\n",
        "class Cat(Animal):\n",
        "    def meow(self):\n",
        "        print(\"Cat meows.\")\n",
        "\n",
        "# Example usage\n",
        "dog = Dog()\n",
        "cat = Cat()\n",
        "\n",
        "dog.speak()  # Inherited from Animal class\n",
        "dog.bark()   # Defined in Dog class\n",
        "cat.speak()  # Inherited from Animal class\n",
        "cat.meow()   # Defined in Cat class\n"
      ],
      "metadata": {
        "colab": {
          "base_uri": "https://localhost:8080/"
        },
        "id": "7l9WA-pmCi_A",
        "outputId": "1d42908d-8029-42ef-85f6-9bc8ed0304e8"
      },
      "execution_count": 11,
      "outputs": [
        {
          "output_type": "stream",
          "name": "stdout",
          "text": [
            "Animal makes a sound.\n",
            "Dog barks.\n",
            "Animal makes a sound.\n",
            "Cat meows.\n"
          ]
        }
      ]
    },
    {
      "cell_type": "code",
      "source": [
        "#hybird inheritance\n",
        "class Animal:\n",
        "    def speak(self):\n",
        "        print(\"Animal makes a sound.\")\n",
        "\n",
        "class Mammal(Animal):\n",
        "    def has_fur(self):\n",
        "        print(\"Mammals have fur.\")\n",
        "\n",
        "class Bird(Animal):\n",
        "    def fly(self):\n",
        "        print(\"Bird flies.\")\n",
        "\n",
        "class Bat(Mammal, Bird):\n",
        "    def hang(self):\n",
        "        print(\"Bat hangs upside down.\")\n",
        "\n",
        "# Example usage\n",
        "bat = Bat()\n",
        "bat.speak()   # Inherited from Animal\n",
        "bat.has_fur()  # Inherited from Mammal\n",
        "bat.fly()     # Inherited from Bird\n",
        "bat.hang()    # Defined in Bat class\n"
      ],
      "metadata": {
        "colab": {
          "base_uri": "https://localhost:8080/"
        },
        "id": "Re0I2x7WDdLo",
        "outputId": "ac9d3177-ce70-483b-b6ec-2444c7ddece7"
      },
      "execution_count": 12,
      "outputs": [
        {
          "output_type": "stream",
          "name": "stdout",
          "text": [
            "Animal makes a sound.\n",
            "Mammals have fur.\n",
            "Bird flies.\n",
            "Bat hangs upside down.\n"
          ]
        }
      ]
    },
    {
      "cell_type": "markdown",
      "source": [
        "7.What is the Method Resolution Order (MRO) in Python? How can you retrieve it programmatically?\n",
        "\n",
        "\n",
        "\n",
        "Answer-\n",
        "\n",
        "\n",
        "What is Method Resolution Order (MRO) in Python?\n",
        "\n",
        "\n",
        "The Method Resolution Order (MRO) is the order in which Python looks for methods and attributes in a class hierarchy. This order determines how the method or attribute lookup works in the case of multiple inheritance, where a class inherits from multiple base classes.\n",
        "\n",
        "\n",
        "\n",
        "When you call a method on an instance, Python needs to figure out where to find that method in the class hierarchy. The MRO defines this order of resolution, ensuring that methods are called in the correct sequence.\n",
        "\n",
        "\n",
        "\n",
        "In the context of multiple inheritance, MRO defines the order in which classes are considered when looking for a method or attribute, starting from the current class and following the inheritance chain.\n",
        "\n",
        "\n",
        "\n",
        "How does Python determine MRO?\n",
        "\n",
        "\n",
        "Python uses the C3 Linearization Algorithm (also known as C3 superclass linearization) to compute the MRO. This algorithm ensures that:\n",
        "\n",
        "\n",
        "\n",
        "Parent classes are considered from left to right.\n",
        "\n",
        "\n",
        "The order respects the hierarchy of classes (i.e., subclasses come after superclasses).\n",
        "\n",
        "\n",
        "No class appears twice in the method resolution order.\n",
        "\n",
        "\n",
        "\n"
      ],
      "metadata": {
        "id": "3m8QRgKZDkUi"
      }
    },
    {
      "cell_type": "code",
      "source": [
        "#working of mro\n",
        "class A:\n",
        "    def method(self):\n",
        "        print(\"Method in class A\")\n",
        "\n",
        "class B(A):\n",
        "    def method(self):\n",
        "        print(\"Method in class B\")\n",
        "\n",
        "class C(A):\n",
        "    def method(self):\n",
        "        print(\"Method in class C\")\n",
        "\n",
        "class D(B, C):\n",
        "    pass\n",
        "\n",
        "# Create an instance of D\n",
        "d = D()\n",
        "d.method()  # Which method will be called?\n"
      ],
      "metadata": {
        "colab": {
          "base_uri": "https://localhost:8080/"
        },
        "id": "hEO6VsdeEir0",
        "outputId": "e39e3912-9b64-4b41-9643-bf785918c448"
      },
      "execution_count": 13,
      "outputs": [
        {
          "output_type": "stream",
          "name": "stdout",
          "text": [
            "Method in class B\n"
          ]
        }
      ]
    },
    {
      "cell_type": "markdown",
      "source": [
        "8.Create an abstract base class `Shape` with an abstract method `area()`. Then create two subclasses `Circle` and `Rectangle` that implement the `area()` method.\n",
        "\n",
        "\n",
        "\n",
        "Answer-\n",
        "\n",
        "\n",
        "In Python, you can create abstract base classes (ABCs) using the abc module. An abstract base class allows you to define methods that must be implemented by its subclasses, without providing the implementation itself. The @abstractmethod decorator is used to indicate that a method is abstract and must be implemented by any subclass.\n",
        "\n",
        "\n",
        "\n",
        "Here’s how you can define an abstract base class Shape with an abstract method area(), and then create two subclasses Circle and Rectangle that implement the area() method.\n",
        "\n",
        "\n",
        "\n",
        "Step-by-Step Implementation:\n",
        "\n",
        "\n",
        "Import the abc module.\n",
        "\n",
        "\n",
        "Define the abstract base class Shape with an abstract method area().\n",
        "\n",
        "\n",
        "Create two subclasses: Circle and Rectangle, each of which implements the area() method.\n",
        "\n",
        "\n",
        "Abstract Base Class Shape:\n",
        "\n",
        "\n",
        "The class Shape inherits from ABC, which makes it an abstract base class.\n",
        "\n",
        "\n",
        "The method area() is defined with the @abstractmethod decorator, meaning any subclass of Shape must implement the area() method.\n",
        "\n",
        "\n",
        "The pass statement is used because the area() method has no implementation in Shape.\n",
        "\n",
        "\n",
        "Circle Subclass:\n",
        "\n",
        "\n",
        "The Circle class inherits from Shape and implements the area() method. It uses the formula for the area of a circle:\n",
        "\n",
        "pie * r*2\n",
        "\n",
        "\n",
        "Rectangle Subclass:\n",
        "\n",
        "\n",
        "The Rectangle class also inherits from Shape and implements the area() method using the formula for the area of a rectangle: width × height.\n",
        "\n",
        "\n",
        "\n",
        "Creating Instances:\n",
        "\n",
        "\n",
        "We create instances of Circle and Rectangle with specific parameters (radius for Circle and width/height for Rectangle).\n",
        "Calling the area() method on these instances computes the area according to the respective formulas.\n"
      ],
      "metadata": {
        "id": "pctUVGjnE1Po"
      }
    },
    {
      "cell_type": "code",
      "source": [
        "from abc import ABC, abstractmethod\n",
        "import math\n",
        "\n",
        "# Abstract base class\n",
        "class Shape(ABC):\n",
        "    @abstractmethod\n",
        "    def area(self):\n",
        "        pass\n",
        "\n",
        "# Subclass for Circle\n",
        "class Circle(Shape):\n",
        "    def __init__(self, radius):\n",
        "        self.radius = radius\n",
        "\n",
        "    def area(self):\n",
        "        return math.pi * self.radius ** 2  # Area of the circle (πr²)\n",
        "\n",
        "# Subclass for Rectangle\n",
        "class Rectangle(Shape):\n",
        "    def __init__(self, width, height):\n",
        "        self.width = width\n",
        "        self.height = height\n",
        "\n",
        "    def area(self):\n",
        "        return self.width * self.height  # Area of the rectangle (width * height)\n",
        "\n",
        "# Example usage\n",
        "circle = Circle(5)\n",
        "rectangle = Rectangle(4, 6)\n",
        "\n",
        "print(f\"Area of Circle: {circle.area()}\")       # Output: 78.53981633974483 (π * 5²)\n",
        "print(f\"Area of Rectangle: {rectangle.area()}\")  # Output: 24 (4 * 6)\n"
      ],
      "metadata": {
        "colab": {
          "base_uri": "https://localhost:8080/"
        },
        "id": "D4jcMjyZF9RW",
        "outputId": "058fe1b3-52f5-49d4-a47c-46eea34cfd8f"
      },
      "execution_count": 15,
      "outputs": [
        {
          "output_type": "stream",
          "name": "stdout",
          "text": [
            "Area of Circle: 78.53981633974483\n",
            "Area of Rectangle: 24\n"
          ]
        }
      ]
    },
    {
      "cell_type": "markdown",
      "source": [
        "9.Demonstrate polymorphism by creating a function that can work with different shape objects to calculate and print their areas.\n",
        "\n",
        "\n",
        "\n",
        "Answer-\n",
        "\n",
        "\n",
        "Polymorphism allows objects of different classes to be treated as objects of a common superclass. In Python, polymorphism can be achieved through method overriding and by using methods that can accept objects of different classes, as long as those classes share a common interface (i.e., they implement the same method).\n",
        "\n",
        "\n",
        "\n",
        "In this case, you can create a function that works with different shape objects (like Circle and Rectangle) and calculates their areas, even though these objects are of different types. All that the function needs is that the objects must have an area() method.\n",
        "\n",
        "\n",
        "\n",
        "\n",
        "Example Demonstrating Polymorphism\n",
        "\n",
        "\n",
        "We will reuse the Shape, Circle, and Rectangle classes from the previous example, and create a function print_area() that will take any object of type Shape and print its area. This function will work with any shape that implements the area() method, demonstrating polymorphism.\n",
        "\n",
        "\n",
        "KEYPOINTS:-\n",
        "\n",
        "\n",
        "Polymorphism allows the same function (print_area) to work with objects of different types (Circle and Rectangle), as long as they implement the area() method.\n",
        "\n",
        "\n",
        "The objects are treated as instances of the Shape class (or its subclasses), and the correct area() method is called based on the actual type of the object.\n",
        "\n"
      ],
      "metadata": {
        "id": "c9TRw7FzGFMg"
      }
    },
    {
      "cell_type": "code",
      "source": [
        "from abc import ABC, abstractmethod\n",
        "import math\n",
        "\n",
        "# Abstract base class\n",
        "class Shape(ABC):\n",
        "    @abstractmethod\n",
        "    def area(self):\n",
        "        pass\n",
        "\n",
        "# Subclass for Circle\n",
        "class Circle(Shape):\n",
        "    def __init__(self, radius):\n",
        "        self.radius = radius\n",
        "\n",
        "    def area(self):\n",
        "        return math.pi * self.radius ** 2  # Area of the circle (πr²)\n",
        "\n",
        "# Subclass for Rectangle\n",
        "class Rectangle(Shape):\n",
        "    def __init__(self, width, height):\n",
        "        self.width = width\n",
        "        self.height = height\n",
        "\n",
        "    def area(self):\n",
        "        return self.width * self.height  # Area of the rectangle (width * height)\n",
        "\n",
        "# Function that demonstrates polymorphism\n",
        "def print_area(shape: Shape):\n",
        "    print(f\"Area: {shape.area()}\")\n",
        "\n",
        "# Example usage\n",
        "circle = Circle(5)\n",
        "rectangle = Rectangle(4, 6)\n",
        "\n",
        "# Using the same function to calculate and print the area for different shapes\n",
        "print_area(circle)     # Area of Circle\n",
        "print_area(rectangle)  # Area of Rectangle\n"
      ],
      "metadata": {
        "colab": {
          "base_uri": "https://localhost:8080/"
        },
        "id": "crETupEmHdaf",
        "outputId": "84566fd5-d022-4251-ea99-aa5b24c17ec5"
      },
      "execution_count": 16,
      "outputs": [
        {
          "output_type": "stream",
          "name": "stdout",
          "text": [
            "Area: 78.53981633974483\n",
            "Area: 24\n"
          ]
        }
      ]
    },
    {
      "cell_type": "markdown",
      "source": [
        "10.Implement encapsulation in a `BankAccount` class with private attributes for `balance` and `account_number`. Include methods for deposit, withdrawal, and balance inquiry.\n",
        "\n",
        "\n",
        "\n",
        "Answer-\n",
        "\n",
        "\n",
        "To implement encapsulation in a BankAccount class, we will make the balance and account_number attributes private by prefixing them with an underscore (common convention in Python for private attributes), and then provide methods to interact with those attributes in a controlled manner. These methods will allow for deposits, withdrawals, and balance inquiries while maintaining the integrity of the data.\n",
        "\n",
        "\n",
        "EXPLANATION:-\n",
        "Private Attributes:\n",
        "\n",
        "\n",
        "The account_number and balance are stored as private attributes (denoted by _account_number and _balance). These are not directly accessible from outside the class.\n",
        "\n",
        "\n",
        "Methods for Encapsulation:\n",
        "\n",
        "\n",
        "The deposit method allows the deposit of a positive amount, adding it to the balance.\n",
        "\n",
        "\n",
        "The withdraw method ensures that only valid withdrawal amounts (positive and less than or equal to the balance) can be processed.\n",
        "\n",
        "\n",
        "The get_balance method allows checking the current balance.\n",
        "\n",
        "\n",
        "Encapsulation Benefits:\n",
        "\n",
        "\n",
        "We protect the balance from being modified directly from outside the class, ensuring that business rules (like not allowing negative balances or ensuring sufficient funds for withdrawal) are enforced."
      ],
      "metadata": {
        "id": "a7TcrU7PHgkx"
      }
    },
    {
      "cell_type": "code",
      "source": [
        "#example\n",
        "class BankAccount:\n",
        "    def __init__(self, account_number, initial_balance=0.0):\n",
        "        # Private attributes\n",
        "        self._account_number = account_number\n",
        "        self._balance = initial_balance\n",
        "\n",
        "    # Method to deposit money\n",
        "    def deposit(self, amount):\n",
        "        if amount > 0:\n",
        "            self._balance += amount\n",
        "            print(f\"Deposited: ${amount:.2f}\")\n",
        "        else:\n",
        "            print(\"Deposit amount must be greater than zero.\")\n",
        "\n",
        "    # Method to withdraw money\n",
        "    def withdraw(self, amount):\n",
        "        if amount > 0:\n",
        "            if amount <= self._balance:\n",
        "                self._balance -= amount\n",
        "                print(f\"Withdrew: ${amount:.2f}\")\n",
        "            else:\n",
        "                print(\"Insufficient funds.\")\n",
        "        else:\n",
        "            print(\"Withdrawal amount must be greater than zero.\")\n",
        "\n",
        "    # Method to check the balance\n",
        "    def get_balance(self):\n",
        "        return self._balance\n",
        "\n",
        "    # Method to check the account number (optional, for testing)\n",
        "    def get_account_number(self):\n",
        "        return self._account_number\n",
        "\n",
        "# Example usage\n",
        "account = BankAccount(\"12345678\", 500.00)\n",
        "\n",
        "# Deposit money\n",
        "account.deposit(150)\n",
        "\n",
        "# Withdraw money\n",
        "account.withdraw(200)\n",
        "\n",
        "# Check balance\n",
        "print(f\"Current balance: ${account.get_balance():.2f}\")\n"
      ],
      "metadata": {
        "colab": {
          "base_uri": "https://localhost:8080/"
        },
        "id": "N2RlPYizIUNw",
        "outputId": "24289e01-c003-4800-ea62-7582adaaf259"
      },
      "execution_count": 17,
      "outputs": [
        {
          "output_type": "stream",
          "name": "stdout",
          "text": [
            "Deposited: $150.00\n",
            "Withdrew: $200.00\n",
            "Current balance: $450.00\n"
          ]
        }
      ]
    },
    {
      "cell_type": "markdown",
      "source": [
        "11.Write a class that overrides the `__str__` and `__add__` magic methods. What will these methods allow you to do?\n",
        "\n",
        "\n",
        "Answer-\n",
        "\n",
        "\n",
        "In Python, the magic methods __str__ and __add__ allow you to define how objects of your class are represented as strings and how they behave when used with the addition operator (+), respectively.\n",
        "\n",
        "\n",
        "\n",
        "__str__: This method is used to define a human-readable string representation of the object. It is called when you use str() on an object or when you print the object. This allows you to customize how the object is represented when printed, which can be useful for debugging and displaying information in a user-friendly format.\n",
        "\n",
        "\n",
        "__add__: This method is used to define behavior for the addition operator (+). It is called when you try to add two instances of your class using +. You can customize how the addition works by implementing this method.\n",
        "\n",
        "\n",
        "\n",
        "EXPLANATION:-\n",
        "__str__ Method:\n",
        "\n",
        "\n",
        "When we print an instance of the BankAccount class, the __str__ method is called to produce a string representation.\n",
        "The format is BankAccount {account_number}: ${balance}, providing a user-friendly display of the account.\n",
        "\n",
        "\n",
        "__add__ Method:\n",
        "\n",
        "\n",
        "The __add__ method is used to customize the behavior when two BankAccount objects are added together.\n",
        "In this case, it adds the balances of two BankAccount instances and returns a new BankAccount instance with the combined balance. The account number is set to \"Combined Account\" in this example.\n",
        "\n",
        "\n",
        "What These Methods Allow You To Do:\n",
        "\n",
        "\n",
        "__str__ allows you to:\n",
        "Customize how an object is represented as a string, making it easier to print or convert an object to a string. This is especially useful for debugging and logging.\n",
        "\n",
        "\n",
        "__add__ allows you to:\n",
        "Use the + operator to combine two objects of the class in a meaningful way. In this case, adding two BankAccount objects results in a new account with the sum of the balances. This makes the + operator work intuitively with your objects.\n",
        "\n",
        "\n"
      ],
      "metadata": {
        "id": "y5Gce15hIbfz"
      }
    },
    {
      "cell_type": "code",
      "source": [
        "class BankAccount:\n",
        "    def __init__(self, account_number, balance=0.0):\n",
        "        self.account_number = account_number\n",
        "        self.balance = balance\n",
        "\n",
        "    # Override the __str__ method to define a custom string representation\n",
        "    def __str__(self):\n",
        "        return f\"BankAccount {self.account_number}: ${self.balance:.2f}\"\n",
        "\n",
        "    # Override the __add__ method to define custom addition behavior\n",
        "    def __add__(self, other):\n",
        "        if isinstance(other, BankAccount):\n",
        "            # When adding two BankAccount instances, we add their balances\n",
        "            new_balance = self.balance + other.balance\n",
        "            # Return a new BankAccount object with the combined balance\n",
        "            return BankAccount(\"Combined Account\", new_balance)\n",
        "        return NotImplemented  # If the other object is not a BankAccount, return NotImplemented\n",
        "\n",
        "# Example usage\n",
        "account1 = BankAccount(\"123456\", 500)\n",
        "account2 = BankAccount(\"654321\", 300)\n",
        "\n",
        "# Print account1 using the custom __str__ method\n",
        "print(account1)  # Output: BankAccount 123456: $500.00\n",
        "\n",
        "# Add the two accounts using the custom __add__ method\n",
        "combined_account = account1 + account2\n",
        "\n",
        "# Print the result of the addition\n",
        "print(combined_account)  # Output: BankAccount Combined Account: $800.00\n"
      ],
      "metadata": {
        "colab": {
          "base_uri": "https://localhost:8080/"
        },
        "id": "_tZ4X3_kJ8_S",
        "outputId": "2308c69e-535b-44b8-bb03-88f306fe6904"
      },
      "execution_count": 18,
      "outputs": [
        {
          "output_type": "stream",
          "name": "stdout",
          "text": [
            "BankAccount 123456: $500.00\n",
            "BankAccount Combined Account: $800.00\n"
          ]
        }
      ]
    },
    {
      "cell_type": "markdown",
      "source": [
        "12.Create a decorator that measures and prints the execution time of a function.\n",
        "\n",
        "\n",
        "Answer-\n",
        "\n",
        "\n",
        "To create a decorator that measures and prints the execution time of a function, you can use Python's time module to capture the start and end times of the function's execution.\n",
        "\n",
        "\n",
        "\n",
        "EXPLANATION:-\n",
        "time_it Decorator:\n",
        "\n",
        "\n",
        "This decorator takes a function func as input and defines a wrapper function around it.\n",
        "\n",
        "\n",
        "The wrapper function captures the start time using time.time() before calling the original function and the end time after the function finishes.\n",
        "\n",
        "\n",
        "It calculates the execution time by subtracting the start time from the end time and prints it.\n",
        "\n",
        "\n",
        "The original function’s result is returned after execution.\n",
        "\n",
        "\n",
        "Using the Decorator:\n",
        "\n",
        "\n",
        "To apply the decorator, you simply use the @time_it syntax before defining a function. This automatically wraps the function with the time_it decorator.\n",
        "\n",
        "\n",
        "Example Function (example_function):\n",
        "\n",
        "\n",
        "This function performs a simple operation (calculating the sum of integers from 0 to n-1). When it's decorated with @time_it, the execution time is printed each time the function is called.\n",
        "\n",
        "\n",
        "How It Works:\n",
        "\n",
        "\n",
        "The decorator intercepts calls to example_function, measuring the time before and after the function runs.\n",
        "\n",
        "\n",
        "The result of the function is returned after printing the execution time, ensuring that the original functionality is preserved.\n"
      ],
      "metadata": {
        "id": "GCRF96OVKACT"
      }
    },
    {
      "cell_type": "code",
      "source": [
        "import time\n",
        "\n",
        "# Define the decorator\n",
        "def time_it(func):\n",
        "    def wrapper(*args, **kwargs):\n",
        "        start_time = time.time()  # Capture the start time\n",
        "        result = func(*args, **kwargs)  # Call the function\n",
        "        end_time = time.time()  # Capture the end time\n",
        "        execution_time = end_time - start_time  # Calculate execution time\n",
        "        print(f\"Execution time of {func.__name__}: {execution_time:.4f} seconds\")\n",
        "        return result  # Return the result of the function\n",
        "    return wrapper\n",
        "\n",
        "# Example usage\n",
        "@time_it\n",
        "def example_function(n):\n",
        "    total = 0\n",
        "    for i in range(n):\n",
        "        total += i\n",
        "    return total\n",
        "\n",
        "# Call the decorated function\n",
        "example_function(1000000)\n"
      ],
      "metadata": {
        "colab": {
          "base_uri": "https://localhost:8080/"
        },
        "id": "0wII5M7eLMvG",
        "outputId": "870bff1d-d1a3-4ae6-f94c-3170c64bc3bb"
      },
      "execution_count": 19,
      "outputs": [
        {
          "output_type": "stream",
          "name": "stdout",
          "text": [
            "Execution time of example_function: 0.0781 seconds\n"
          ]
        },
        {
          "output_type": "execute_result",
          "data": {
            "text/plain": [
              "499999500000"
            ]
          },
          "metadata": {},
          "execution_count": 19
        }
      ]
    },
    {
      "cell_type": "markdown",
      "source": [
        "13.Explain the concept of the Diamond Problem in multiple inheritance. How does Python resolve it?\n",
        "\n",
        "\n",
        "\n",
        "Answer-\n",
        "\n",
        "\n",
        "The Diamond Problem in Multiple Inheritance\n",
        "\n",
        "\n",
        "The Diamond Problem arises in object-oriented programming when a class inherits from two classes that both inherit from a common base class. This can cause ambiguity in method resolution and conflicts, particularly when both parent classes have methods or attributes with the same name.\n",
        "\n",
        "\n",
        "How Python Resolves the Diamond Problem\n",
        "\n",
        "\n",
        "Python uses a method resolution order (MRO) to determine the order in which methods are inherited from classes. This is important for multiple inheritance because it specifies the order in which base classes are searched when a method is called.\n",
        "\n",
        "\n",
        "\n",
        "Python's MRO follows the C3 linearization algorithm (or C3 superclass linearization), which ensures that the method resolution is consistent, predictable, and avoids ambiguity.\n",
        "\n",
        "\n",
        "C3 Linearization\n",
        "\n",
        "The C3 linearization algorithm computes a consistent order for class inheritance. It ensures that a class appears only once in the inheritance path, and that classes are visited in a way that respects the method resolution order. The MRO takes into account the inheritance hierarchy and any overriding methods.\n",
        "\n",
        "\n",
        "\n",
        "\n",
        "How Python Resolves the Diamond Problem\n",
        "\n",
        "\n",
        "MRO in Action: Python uses the MRO to resolve method calls and avoids ambiguity by following a clear order of classes.\n",
        "First Inherited, First Called: In the case of D, the method from Class B is called because B appears first in the MRO (after D).\n",
        "\n",
        "\n",
        "The C3 Linearization Process\n",
        "\n",
        "\n",
        "The C3 algorithm ensures that the linearization is consistent with the inheritance hierarchy. Specifically, the MRO respects the following rules:\n",
        "\n",
        "\n",
        "Parent class order: The base classes of a class are ordered left-to-right in the inheritance list.\n",
        "\n",
        "\n",
        "Preserving base class order: The order of the base classes is preserved, meaning that the order of inheritance in the class definition is respected.\n",
        "\n",
        "\n",
        "No ambiguity: A base class can only appear once in the inheritance order.\n",
        "\n",
        "\n",
        "Summary\n",
        "\n",
        "\n",
        "The Diamond Problem occurs in multiple inheritance when a class inherits from two classes that share a common ancestor, leading to potential ambiguity in method resolution.\n",
        "\n",
        "\n",
        "Python resolves this issue using the C3 linearization algorithm, which computes a Method Resolution Order (MRO) for the class, determining the order in which methods are inherited.\n",
        "\n",
        "\n",
        "Python ensures that method calls are resolved unambiguously and consistently, respecting the inheritance hierarchy and the order in which base classes appear.\n",
        "\n",
        "\n",
        "\n",
        "\n",
        ""
      ],
      "metadata": {
        "id": "sjQDy1E2LOoP"
      }
    },
    {
      "cell_type": "code",
      "source": [
        "#diamond problem exapmle\n",
        "class A:\n",
        "    def method(self):\n",
        "        print(\"Method in A\")\n",
        "\n",
        "class B(A):\n",
        "    def method(self):\n",
        "        print(\"Method in B\")\n",
        "\n",
        "class C(A):\n",
        "    def method(self):\n",
        "        print(\"Method in C\")\n",
        "\n",
        "class D(B, C):\n",
        "    pass\n",
        "d = D()\n",
        "d.method()\n"
      ],
      "metadata": {
        "colab": {
          "base_uri": "https://localhost:8080/"
        },
        "id": "e9GSLgKwM-mo",
        "outputId": "40f5521d-1d7b-4b0c-a23c-e0b4dc483ab4"
      },
      "execution_count": 22,
      "outputs": [
        {
          "output_type": "stream",
          "name": "stdout",
          "text": [
            "Method in B\n"
          ]
        }
      ]
    },
    {
      "cell_type": "markdown",
      "source": [
        "14.Write a class method that keeps track of the number of instances created from a class.\n",
        "\n",
        "\n",
        "\n",
        "Answer-\n",
        "\n",
        "\n",
        "To track the number of instances created from a class, we can define a class method that maintains a count of how many times the class has been instantiated. The count can be stored as a class attribute, and the class method can update this count whenever a new instance is created.\n",
        "\n",
        "\n",
        "\n",
        "EXPALNATION:-\n",
        "Class Attribute (instance_count):\n",
        "\n",
        "\n",
        "instance_count is a class attribute, meaning it is shared by all instances of the class. It keeps track of the number of times an instance of MyClass is created.\n",
        "\n",
        "\n",
        "__init__ Method:\n",
        "\n",
        "\n",
        "Every time a new instance of MyClass is created, the __init__ method is called. Inside this method, we increment the instance_count class attribute by 1.\n",
        "\n",
        "\n",
        "get_instance_count Class Method:\n",
        "\n",
        "\n",
        "The get_instance_count method is a class method (indicated by the @classmethod decorator). It is used to access and return the value of instance_count.\n",
        "\n",
        "\n",
        "The cls parameter refers to the class itself, and we access the instance_count using cls.instance_count.\n",
        "\n"
      ],
      "metadata": {
        "id": "24PBmUg3NPz9"
      }
    },
    {
      "cell_type": "code",
      "source": [
        "class MyClass:\n",
        "    # Class attribute to keep track of the number of instances\n",
        "    instance_count = 0\n",
        "\n",
        "    def __init__(self):\n",
        "        # Increment the instance count every time an object is created\n",
        "        MyClass.instance_count += 1\n",
        "\n",
        "    @classmethod\n",
        "    def get_instance_count(cls):\n",
        "        # Class method to return the number of instances created\n",
        "        return cls.instance_count\n",
        "\n",
        "\n",
        "# Example usage\n",
        "obj1 = MyClass()\n",
        "obj2 = MyClass()\n",
        "obj3 = MyClass()\n",
        "\n",
        "# Check how many instances have been created\n",
        "print(MyClass.get_instance_count())  # Output: 3\n"
      ],
      "metadata": {
        "colab": {
          "base_uri": "https://localhost:8080/"
        },
        "id": "d5hknLVlOMoG",
        "outputId": "806050ce-1484-4a97-fc55-59090b941f1c"
      },
      "execution_count": 23,
      "outputs": [
        {
          "output_type": "stream",
          "name": "stdout",
          "text": [
            "3\n"
          ]
        }
      ]
    },
    {
      "cell_type": "markdown",
      "source": [
        "15.Implement a static method in a class that checks if a given year is a leap year.\n",
        "\n",
        "\n",
        "Answer-\n",
        "\n",
        "\n",
        "To implement a static method in a class that checks if a given year is a leap year, we can follow the rules for determining leap years:\n",
        "\n",
        "\n",
        "\n",
        "Leap Year Rules:\n",
        "\n",
        "\n",
        "A year is a leap year if it is divisible by 4.\n",
        "\n",
        "\n",
        "However, if the year is divisible by 100, it must also be divisible by 400 to be a leap year.\n",
        "\n",
        "\n",
        "For example:\n",
        "\n",
        "\n",
        "2000 is a leap year (divisible by 400).\n",
        "\n",
        "\n",
        "1900 is not a leap year (divisible by 100 but not by 400).\n",
        "\n",
        "\n",
        "2024 is a leap year (divisible by 4 and not by 100).\n",
        "\n",
        "\n",
        "We will implement a static method called is_leap_year that checks whether a given year satisfies these conditions.\n",
        "\n",
        "\n",
        "\n",
        "EXPALNATION:-\n",
        "Static Method (@staticmethod):\n",
        "\n",
        "\n",
        "The @staticmethod decorator is used because this method does not depend on instance-specific data. It only requires the year parameter passed when called.\n",
        "\n",
        "\n",
        "Static methods are often used for utility functions that don't need access to the instance or class itself.\n",
        "\n",
        "\n",
        "Leap Year Logic:\n",
        "\n",
        "\n",
        "The method first checks if the year is divisible by 4. If so, it then checks if it's divisible by 100; if it is, it must also be divisible by 400 for it to be a leap year.\n",
        "\n",
        "\n",
        "If the year satisfies the leap year conditions, the method returns True; otherwise, it returns False.\n",
        "\n",
        "\n",
        "\n",
        "Why Use a Static Method?\n",
        "\n",
        "\n",
        "Since this method doesn't need to access or modify instance-specific data, a static method is the perfect choice. It allows the method to be called directly on the class, as shown in the examples, without needing an instance of the class."
      ],
      "metadata": {
        "id": "QXhrzJAoOPQK"
      }
    },
    {
      "cell_type": "code",
      "source": [
        "class YearUtils:\n",
        "\n",
        "    @staticmethod\n",
        "    def is_leap_year(year):\n",
        "        # Check if the year is divisible by 4, but not divisible by 100 unless divisible by 400\n",
        "        if (year % 4 == 0 and (year % 100 != 0 or year % 400 == 0)):\n",
        "            return True\n",
        "        else:\n",
        "            return False\n",
        "\n",
        "\n",
        "# Example usage\n",
        "print(YearUtils.is_leap_year(2020))  # True, 2020 is a leap year\n",
        "print(YearUtils.is_leap_year(2021))  # False, 2021 is not a leap year\n",
        "print(YearUtils.is_leap_year(2000))  # True, 2000 is a leap year\n",
        "print(YearUtils.is_leap_year(1900))  # False, 1900 is not a leap year\n"
      ],
      "metadata": {
        "colab": {
          "base_uri": "https://localhost:8080/"
        },
        "id": "BhVqvCcZPvkf",
        "outputId": "3630c3d3-92c5-4dde-8c26-ec018008c897"
      },
      "execution_count": 24,
      "outputs": [
        {
          "output_type": "stream",
          "name": "stdout",
          "text": [
            "True\n",
            "False\n",
            "True\n",
            "False\n"
          ]
        }
      ]
    }
  ]
}