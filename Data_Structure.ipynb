{
  "nbformat": 4,
  "nbformat_minor": 0,
  "metadata": {
    "colab": {
      "provenance": [],
      "authorship_tag": "ABX9TyOANzZYcRtWlVIUiHoTYn2v",
      "include_colab_link": true
    },
    "kernelspec": {
      "name": "python3",
      "display_name": "Python 3"
    },
    "language_info": {
      "name": "python"
    }
  },
  "cells": [
    {
      "cell_type": "markdown",
      "metadata": {
        "id": "view-in-github",
        "colab_type": "text"
      },
      "source": [
        "<a href=\"https://colab.research.google.com/github/visheshthakkar2007/first_assignment/blob/main/Data_Structure.ipynb\" target=\"_parent\"><img src=\"https://colab.research.google.com/assets/colab-badge.svg\" alt=\"Open In Colab\"/></a>"
      ]
    },
    {
      "cell_type": "markdown",
      "source": [
        "1.Discuss string slicing and provide exapmles.\n",
        "\n",
        "\n",
        "\n",
        "Answer-\n",
        "\n",
        "\n",
        "String slicing in Python allows you to extract a portion of a string using a technique known as slicing. This is done by specifying a start index, an end index, and an optional step value.\n",
        "\n",
        "Breakdown of the slicing syntax:\n",
        "\n",
        "1.start (optional): The index where the slice begins (inclusive). If omitted, the slice starts from the beginning of the string.\n",
        "\n",
        "\n",
        "2.end (optional): The index where the slice ends (exclusive). If omitted, the slice goes up to the end of the string.\n",
        "\n",
        "\n",
        "3.step (optional): A step or stride that defines how to step through the string. If omitted, the default is 1.\n",
        "\n",
        "Key points to note:\n",
        "\n",
        "Start index: The index is zero-based, so the first character is at index 0.\n",
        "\n",
        "\n",
        "End index: The character at the end index is not included.\n",
        "If the start index is greater than the end index, an empty string will be returned.\n",
        "\n",
        "\n",
        "Negative indices count from the end of the string, where -1 represents the last character.\n",
        "\n",
        "Practical Uses of String Slicing:\n",
        "\n",
        "\n",
        "Reversing a string: text[::-1]\n",
        "\n",
        "\n",
        "Extracting substrings: Extracting the first or last few characters using text[:n] or text[-n:].\n",
        "\n",
        "\n",
        "Striding through text: For example, extracting every second character from a string using text[::2].\n",
        "\n",
        "\n",
        "String slicing is an efficient and powerful way to work with strings, allowing for easy extraction, modification, and manipulation of text.\n",
        "\n"
      ],
      "metadata": {
        "id": "mxYvZyQFmBT-"
      }
    },
    {
      "cell_type": "code",
      "source": [
        "#basic string slicing\n",
        "text = \"Hello, World!\"\n",
        "print(text[0:5])  # Output: 'Hello'\n",
        "\n"
      ],
      "metadata": {
        "colab": {
          "base_uri": "https://localhost:8080/"
        },
        "id": "Awq853sioBWw",
        "outputId": "d4d712d4-14ab-4d9f-89ae-aa2b2119abe2"
      },
      "execution_count": 1,
      "outputs": [
        {
          "output_type": "stream",
          "name": "stdout",
          "text": [
            "Hello\n"
          ]
        }
      ]
    },
    {
      "cell_type": "code",
      "source": [
        "#omitting the start or end index\n",
        "print(text[:5])   # Output: 'Hello' (starts from the beginning)\n",
        "print(text[7:])   # Output: 'World!' (slices from index 7 to the end)\n"
      ],
      "metadata": {
        "colab": {
          "base_uri": "https://localhost:8080/"
        },
        "id": "_I2WVv1XoPJU",
        "outputId": "e3f077e1-47d1-4dd6-cf08-e1f2ec46de20"
      },
      "execution_count": 2,
      "outputs": [
        {
          "output_type": "stream",
          "name": "stdout",
          "text": [
            "Hello\n",
            "World!\n"
          ]
        }
      ]
    },
    {
      "cell_type": "code",
      "source": [
        "#negative indices\n",
        "print(text[-6:-1])  # Output: 'World'\n"
      ],
      "metadata": {
        "colab": {
          "base_uri": "https://localhost:8080/"
        },
        "id": "IDvl5Al-oPRF",
        "outputId": "4386397c-b71b-40e3-8d3a-e9cc3a80c6b0"
      },
      "execution_count": 3,
      "outputs": [
        {
          "output_type": "stream",
          "name": "stdout",
          "text": [
            "World\n"
          ]
        }
      ]
    },
    {
      "cell_type": "code",
      "source": [
        "#Slicing with Negative Indices and steps\n",
        "print(text[-1:-6:-1])  # Output: '!dlroW'\n"
      ],
      "metadata": {
        "colab": {
          "base_uri": "https://localhost:8080/"
        },
        "id": "2dP-iit1oPog",
        "outputId": "195e8b24-27e0-4289-e01d-d80b58548fba"
      },
      "execution_count": 4,
      "outputs": [
        {
          "output_type": "stream",
          "name": "stdout",
          "text": [
            "!dlro\n"
          ]
        }
      ]
    },
    {
      "cell_type": "markdown",
      "source": [
        "2.Explain the key features of lists in python.\n",
        "\n",
        "\n",
        "Answer-\n",
        "\n",
        "\n",
        "In Python, lists are one of the most versatile and widely-used data structures. A list is an ordered collection of items that can be of any data type, such as integers, strings, floats, or even other lists. Here are the key features of lists in Python:\n",
        "\n",
        "1. Ordered\n",
        "Lists maintain the order of elements in the order they were added. This means you can access elements by their index, and the order will be preserved.\n",
        "\n",
        "\n",
        "2. Mutable\n",
        "Lists are mutable, meaning that you can modify the contents of a list after it has been created. This includes adding, removing, or changing elements.\n",
        "\n",
        "\n",
        "3. Heterogeneous (Can Contain Mixed Data Types)\n",
        "Lists can contain elements of different data types. You can store integers, strings, floats, or even other lists within the same list\n",
        "\n",
        "\n",
        "4. Can Contain Other Lists\n",
        "Lists are capable of containing other lists (nested lists). This allows for multi-dimensional structures, like matrices or more complex data arrangements.\n",
        "\n",
        "\n",
        "8. Supports Various Methods\n",
        "\n",
        "\n",
        "Python provides a variety of built-in methods to manipulate lists, such as:\n",
        "\n",
        "\n",
        "append(): Adds an element to the end of the list.\n",
        "\n",
        "\n",
        "extend(): Adds multiple elements to the end of the list.\n",
        "\n",
        "\n",
        "insert(): Inserts an element at a specific position.\n",
        "\n",
        "\n",
        "\n",
        "remove(): Removes the first occurrence of a value.\n",
        "\n",
        "\n",
        "pop(): Removes and returns an element at a given index (or the last element if no index is provided).\n",
        "\n",
        "\n",
        "sort(): Sorts the list in place.\n",
        "\n",
        "\n",
        "reverse(): Reverses the order of the list.\n",
        "\n"
      ],
      "metadata": {
        "id": "xvXMAdLuo-EK"
      }
    },
    {
      "cell_type": "code",
      "source": [
        "#ordered\n",
        "my_list = [10, 20, 30, 40]\n",
        "print(my_list[0])  # Output: 10\n",
        "print(my_list[1])  # Output: 20\n"
      ],
      "metadata": {
        "colab": {
          "base_uri": "https://localhost:8080/"
        },
        "id": "k2MA1gISsaAo",
        "outputId": "fa9b114d-26ed-4c9c-e239-ffd2f8db9825"
      },
      "execution_count": 5,
      "outputs": [
        {
          "output_type": "stream",
          "name": "stdout",
          "text": [
            "10\n",
            "20\n"
          ]
        }
      ]
    },
    {
      "cell_type": "code",
      "source": [
        "#mutable\n",
        "my_list = [1, 2, 3]\n",
        "my_list[1] = 10  # Modifying an element\n",
        "print(my_list)  # Output: [1, 10, 3]\n"
      ],
      "metadata": {
        "colab": {
          "base_uri": "https://localhost:8080/"
        },
        "id": "z01xl1JvsaN-",
        "outputId": "53a93ca6-b8e3-46fa-ec04-ac6ee2aeb7fc"
      },
      "execution_count": 6,
      "outputs": [
        {
          "output_type": "stream",
          "name": "stdout",
          "text": [
            "[1, 10, 3]\n"
          ]
        }
      ]
    },
    {
      "cell_type": "code",
      "source": [
        "#Heterogeneous (Can Contain Mixed Data Types)\n",
        "my_list = [1, \"hello\", 3.14, [1, 2]]\n",
        "print(my_list)  # Output: [1, 'hello', 3.14, [1, 2]]\n"
      ],
      "metadata": {
        "colab": {
          "base_uri": "https://localhost:8080/"
        },
        "id": "JXfL4fx8saXY",
        "outputId": "6e03ac3e-fc99-4a78-b182-0bc051b4254c"
      },
      "execution_count": 7,
      "outputs": [
        {
          "output_type": "stream",
          "name": "stdout",
          "text": [
            "[1, 'hello', 3.14, [1, 2]]\n"
          ]
        }
      ]
    },
    {
      "cell_type": "code",
      "source": [
        "#can contain other lists\n",
        "my_list = [[1, 2], [3, 4], [5, 6]]\n",
        "print(my_list[0])  # Output: [1, 2]\n",
        "print(my_list[0][1])  # Output: 2 (accessing an element of a sublist)\n"
      ],
      "metadata": {
        "colab": {
          "base_uri": "https://localhost:8080/"
        },
        "id": "4fab8tv-sad8",
        "outputId": "c6d2a07b-0079-43e3-a5f2-d797d4f67746"
      },
      "execution_count": 8,
      "outputs": [
        {
          "output_type": "stream",
          "name": "stdout",
          "text": [
            "[1, 2]\n",
            "2\n"
          ]
        }
      ]
    },
    {
      "cell_type": "code",
      "source": [
        "#supports various methods\n",
        "my_list = [3, 1, 4, 1, 5]\n",
        "my_list.append(9)  # Output: [3, 1, 4, 1, 5, 9]\n",
        "my_list.sort()  # Output: [1, 1, 3, 4, 5, 9]\n",
        "print(my_list)"
      ],
      "metadata": {
        "colab": {
          "base_uri": "https://localhost:8080/"
        },
        "id": "v2Y8lLcssaoL",
        "outputId": "ad308e69-8da4-451e-84aa-14e0747d3e1a"
      },
      "execution_count": 11,
      "outputs": [
        {
          "output_type": "stream",
          "name": "stdout",
          "text": [
            "[1, 1, 3, 4, 5, 9]\n"
          ]
        }
      ]
    },
    {
      "cell_type": "markdown",
      "source": [
        "3.Describe how to access,modify,and delete elements in a list with examples.\n",
        "\n",
        "\n",
        "Answer-\n",
        "\n",
        "\n",
        "In Python, lists are ordered, mutable (can be changed), and allow duplicates. You can access, modify, and delete elements in a list in various ways.\n",
        "\n",
        "1. Accessing Elements in a List\n",
        "\n",
        "\n",
        "To access elements in a list, use the index of the element. Python uses 0-based indexing, meaning the first element has an index of 0, the second element has an index of 1, and so on.\n",
        "\n",
        "\n",
        "\n",
        "2. Modifying Elements in a List\n",
        "To modify an element in a list, use its index to assign a new value.\n",
        "\n",
        "\n",
        "3. Deleting Elements from a List\n",
        "\n",
        "\n",
        "There are several ways to delete elements from a list in Python:\n",
        "\n",
        "\n",
        "\n",
        "a) Using del to delete by index:\n",
        "\n",
        "\n",
        "\n",
        "The del statement can delete an element by its index or even delete a slice of elements.\n",
        "\n",
        "\n",
        "b) Using remove() to delete by value:\n",
        "\n",
        "\n",
        "\n",
        "The remove() method removes the first occurrence of the specified value. If the value is not found, it raises a ValueError.\n",
        "\n",
        "\n",
        "c) Using pop() to delete by index (and get the value):\n",
        "\n",
        "\n",
        "\n",
        "The pop() method removes and returns the element at the specified index. If no index is provided, it removes and returns the last element.\n",
        "\n",
        "\n",
        "4. Summary of Methods\n",
        "\n",
        "\n",
        "Accessing: Use index my_list[index] (e.g., my_list[0] for the first element).\n",
        "\n",
        "\n",
        "Modifying: Assign a new value to an index my_list[index] = new_value (e.g., my_list[1] = 100).\n",
        "\n",
        "\n",
        "Deleting:\n",
        "del my_list[index] (e.g., del my_list[2]).\n",
        "my_list.remove(value) (e.g., my_list.remove(30)).\n",
        "my_list.pop(index) (e.g., my_list.pop(1)).\n",
        "\n",
        "\n",
        "\n",
        "\n"
      ],
      "metadata": {
        "id": "IZ6ecJ92tiMF"
      }
    },
    {
      "cell_type": "code",
      "source": [
        "#accessing elements in a list\n",
        "my_list = [10, 20, 30, 40, 50]\n",
        "\n",
        "# Accessing the first element\n",
        "print(my_list[0])  # Output: 10\n",
        "\n",
        "# Accessing the last element (using negative indexing)\n",
        "print(my_list[-1])  # Output: 50\n",
        "\n",
        "# Accessing a range of elements (slicing)\n",
        "print(my_list[1:4])  # Output: [20, 30, 40]\n"
      ],
      "metadata": {
        "colab": {
          "base_uri": "https://localhost:8080/"
        },
        "id": "PPHHFhukvpfG",
        "outputId": "eac9f6bb-b3f7-4804-efee-1c9ec0ace750"
      },
      "execution_count": 13,
      "outputs": [
        {
          "output_type": "stream",
          "name": "stdout",
          "text": [
            "10\n",
            "50\n",
            "[20, 30, 40]\n"
          ]
        }
      ]
    },
    {
      "cell_type": "code",
      "source": [
        "#modifying elements in a list\n",
        "my_list = [10, 20, 30, 40, 50]\n",
        "\n",
        "# Modifying the second element (index 1)\n",
        "my_list[1] = 100\n",
        "print(my_list)  # Output: [10, 100, 30, 40, 50]\n",
        "\n",
        "# Modifying the last element (using negative indexing)\n",
        "my_list[-1] = 200\n",
        "print(my_list)  # Output: [10, 100, 30, 40, 200]\n"
      ],
      "metadata": {
        "colab": {
          "base_uri": "https://localhost:8080/"
        },
        "id": "T4JlLI18v98N",
        "outputId": "944b1990-4284-4b73-f552-1ebddf6c2f10"
      },
      "execution_count": 14,
      "outputs": [
        {
          "output_type": "stream",
          "name": "stdout",
          "text": [
            "[10, 100, 30, 40, 50]\n",
            "[10, 100, 30, 40, 200]\n"
          ]
        }
      ]
    },
    {
      "cell_type": "code",
      "source": [
        "#deleting elements from a list\n",
        "#a)using del\n",
        "my_list = [10, 20, 30, 40, 50]\n",
        "\n",
        "# Deleting the element at index 2\n",
        "del my_list[2]\n",
        "print(my_list)  # Output: [10, 20, 40, 50]\n",
        "\n",
        "# Deleting a slice of elements\n",
        "del my_list[1:3]\n",
        "print(my_list)  # Output: [10, 50]\n"
      ],
      "metadata": {
        "colab": {
          "base_uri": "https://localhost:8080/"
        },
        "id": "rW3xP_rvv-GR",
        "outputId": "d73e26c8-860c-4007-84b3-8c7707a1b2c0"
      },
      "execution_count": 16,
      "outputs": [
        {
          "output_type": "stream",
          "name": "stdout",
          "text": [
            "[10, 20, 40, 50]\n",
            "[10, 50]\n"
          ]
        }
      ]
    },
    {
      "cell_type": "code",
      "source": [
        "#b)using remove\n",
        "my_list = [10, 20, 30, 40, 50]\n",
        "\n",
        "# Removing the value 30\n",
        "my_list.remove(30)\n",
        "print(my_list)  # Output: [10, 20, 40, 50]\n",
        "\n",
        "# Attempting to remove a non-existing value (will raise an error)\n",
        "# my_list.remove(100)  # ValueError: list.remove(x): x not in list\n"
      ],
      "metadata": {
        "colab": {
          "base_uri": "https://localhost:8080/"
        },
        "id": "Bxayoynlv-UY",
        "outputId": "9e74049a-4355-448c-8c31-e45ef49a35da"
      },
      "execution_count": 17,
      "outputs": [
        {
          "output_type": "stream",
          "name": "stdout",
          "text": [
            "[10, 20, 40, 50]\n"
          ]
        }
      ]
    },
    {
      "cell_type": "code",
      "source": [
        "#c)using pop()\n",
        "my_list = [10, 20, 30, 40, 50]\n",
        "\n",
        "# Popping the last element\n",
        "last_element = my_list.pop()\n",
        "print(last_element)  # Output: 50\n",
        "print(my_list)  # Output: [10, 20, 30, 40]\n",
        "\n",
        "# Popping the element at index 1\n",
        "popped_element = my_list.pop(1)\n",
        "print(popped_element)  # Output: 20\n",
        "print(my_list)  # Output: [10, 30, 40]\n"
      ],
      "metadata": {
        "colab": {
          "base_uri": "https://localhost:8080/"
        },
        "id": "3dJLvKfqv-of",
        "outputId": "8994ec8d-45e1-44dd-8629-4a6b505702b6"
      },
      "execution_count": 18,
      "outputs": [
        {
          "output_type": "stream",
          "name": "stdout",
          "text": [
            "50\n",
            "[10, 20, 30, 40]\n",
            "20\n",
            "[10, 30, 40]\n"
          ]
        }
      ]
    },
    {
      "cell_type": "markdown",
      "source": [
        "4.Compare and contrast tuples and lists with examples.\n",
        "\n",
        "\n",
        "Answer-\n",
        "\n",
        "\n",
        "Both tuples and lists are used to store collections of items, but they have some important differences that affect their behavior and use cases.\n",
        "\n",
        "1. Mutability:\n",
        "\n",
        "Tuples are immutable, meaning once created, their contents cannot be changed (i.e., you cannot modify, add, or remove elements).\n",
        "Lists are mutable, meaning you can modify their contents after creation (i.e., you can change, add, or remove elements).\n",
        "\n",
        "\n",
        "2. Syntax:\n",
        "\n",
        "Tuples are defined using parentheses ().\n",
        "Lists are defined using square brackets [].\n",
        "\n",
        "\n",
        "3. Performance:\n",
        "\n",
        "Tuples generally have better performance than lists for iteration or access, as they are immutable and more optimized in memory usage.\n",
        "Lists have a bit more overhead due to their mutability and additional functionality.\n",
        "\n",
        "\n",
        "4. Methods and Operations:\n",
        "\n",
        "Tuples have fewer methods than lists. You can only use methods like .count() and .index().\n",
        "Lists have a broader range of methods for modification, including .append(), .remove(), .insert(), .extend(), .pop(), etc.\n",
        "\n",
        "\n",
        "5. Use Cases:\n",
        "\n",
        "Tuples are typically used when you want to represent a fixed collection of items, such as coordinates, dates, or any data that should not change.\n",
        "Lists are used when you need a collection of items that may change over time, such as a dynamic collection of data that can be updated, sorted, or filtered.\n",
        "\n",
        "\n",
        "6. Iteration:\n",
        "\n",
        "Both tuples and lists can be iterated over using loops, but because tuples are immutable, they are usually more efficient when working with large datasets that don’t require modification.\n",
        "\n",
        "\n",
        "\n",
        "\n",
        "\n"
      ],
      "metadata": {
        "id": "FC2hTcpUw1sA"
      }
    },
    {
      "cell_type": "code",
      "source": [
        "#example of tuple\n",
        "# Creating a tuple\n",
        "my_tuple = (10, 20, 30)\n",
        "\n",
        "# Accessing elements\n",
        "print(my_tuple[1])  # Output: 20\n",
        "\n",
        "# Tuple cannot be modified (Uncommenting the next line will raise an error)\n",
        "# my_tuple[0] = 100  # TypeError: 'tuple' object does not support item assignment\n"
      ],
      "metadata": {
        "colab": {
          "base_uri": "https://localhost:8080/"
        },
        "id": "pIauWqAQyjpL",
        "outputId": "fc7e705c-14c2-4442-8c91-42305b142d8a"
      },
      "execution_count": 19,
      "outputs": [
        {
          "output_type": "stream",
          "name": "stdout",
          "text": [
            "20\n"
          ]
        }
      ]
    },
    {
      "cell_type": "code",
      "source": [
        "#example of a list\n",
        "# Creating a list\n",
        "my_list = [10, 20, 30]\n",
        "\n",
        "# Accessing elements\n",
        "print(my_list[1])  # Output: 20\n",
        "\n",
        "# Modifying elements\n",
        "my_list[0] = 100\n",
        "print(my_list)  # Output: [100, 20, 30]\n",
        "\n",
        "# Adding new elements\n",
        "my_list.append(40)\n",
        "print(my_list)  # Output: [100, 20, 30, 40]\n",
        "\n",
        "# Removing elements\n",
        "my_list.remove(20)\n",
        "print(my_list)  # Output: [100, 30, 40]\n"
      ],
      "metadata": {
        "colab": {
          "base_uri": "https://localhost:8080/"
        },
        "id": "qjgQCQPOyjuH",
        "outputId": "0f92dade-4ad0-456a-dd9f-c74db707bb1d"
      },
      "execution_count": 20,
      "outputs": [
        {
          "output_type": "stream",
          "name": "stdout",
          "text": [
            "20\n",
            "[100, 20, 30]\n",
            "[100, 20, 30, 40]\n",
            "[100, 30, 40]\n"
          ]
        }
      ]
    },
    {
      "cell_type": "markdown",
      "source": [
        "5.Describe the key features of sets and provide exapmles of their use.\n",
        "\n",
        "\n",
        "Answer-\n",
        "\n",
        "\n",
        "Key Features of Sets in Python\n",
        "\n",
        "\n",
        "A set is an unordered collection of unique elements in Python. It is similar to lists and tuples, but with some important differences. Here are the key features of sets:\n",
        "\n",
        "\n",
        "\n",
        "1.Unordered:\n",
        "\n",
        "\n",
        "Sets do not maintain any order. The elements are stored in a way that makes it difficult to predict their order.\n",
        "Since sets are unordered, they do not support indexing, slicing, or other sequence-like behavior (i.e., you cannot access elements by index).\n",
        "\n",
        "\n",
        "2.Unique Elements:\n",
        "\n",
        "\n",
        "Sets automatically remove duplicate values. If you try to add a duplicate element to a set, it will not be added again.\n",
        "\n",
        "\n",
        "3.Mutable:\n",
        "\n",
        "\n",
        "Sets are mutable, which means you can add or remove elements after the set is created.\n",
        "However, the elements themselves must be immutable (e.g., numbers, strings, or tuples) because sets require their elements to be hashable.\n",
        "\n",
        "\n",
        "4.No Indexing, Slicing, or Concatenation:\n",
        "\n",
        "\n",
        "Since sets are unordered, you cannot access elements by their position (i.e., no indexing or slicing).\n",
        "\n",
        "\n",
        "5.Operations:\n",
        "\n",
        "\n",
        "Sets support common mathematical set operations like union, intersection, difference, and symmetric difference.\n",
        "You can also add and remove elements using .add(), .remove(), .discard(), and .pop().\n",
        "\n",
        "\n",
        "6.Fast Membership Tests:\n",
        "\n",
        "\n",
        "Membership tests (e.g., in) are highly optimized and faster for sets compared to lists or tuples.\n",
        "\n",
        "\n",
        "7.No Duplicates:\n",
        "\n",
        "\n",
        "Sets automatically remove any duplicate elements when they are added.\n",
        "\n",
        "\n",
        "Use Cases for Sets:\n",
        "\n",
        "\n",
        "Removing duplicates from a list: You can convert a list to a set and back to a list to remove duplicates.\n",
        "\n",
        "\n",
        "Set operations: When you need to perform mathematical set operations like union, intersection, or difference.\n",
        "\n",
        "\n",
        "Efficient membership checking: When you need fast lookups to check if an item is present.\n"
      ],
      "metadata": {
        "id": "bqRQdHXdy6Y4"
      }
    },
    {
      "cell_type": "code",
      "source": [
        "#creating a set\n",
        "# Creating a set\n",
        "my_set = {1, 2, 3, 4, 5}\n",
        "print(my_set)  # Output: {1, 2, 3, 4, 5}\n"
      ],
      "metadata": {
        "colab": {
          "base_uri": "https://localhost:8080/"
        },
        "id": "N80hQ0AR0cby",
        "outputId": "36ff0ab4-f6f3-4127-b7bf-5c2d3d48912c"
      },
      "execution_count": 21,
      "outputs": [
        {
          "output_type": "stream",
          "name": "stdout",
          "text": [
            "{1, 2, 3, 4, 5}\n"
          ]
        }
      ]
    },
    {
      "cell_type": "code",
      "source": [
        "# Adding an element to the set\n",
        "my_set.add(6)\n",
        "print(my_set)  # Output: {1, 2, 3, 4, 5, 6}\n",
        "\n",
        "# Adding a duplicate element (has no effect)\n",
        "my_set.add(3)\n",
        "print(my_set)  # Output: {1, 2, 3, 4, 5, 6} (3 is not added again)\n"
      ],
      "metadata": {
        "colab": {
          "base_uri": "https://localhost:8080/"
        },
        "id": "Zy-_mtnv0cfw",
        "outputId": "c1bfc483-b904-4c82-fee9-90b2129ff684"
      },
      "execution_count": 22,
      "outputs": [
        {
          "output_type": "stream",
          "name": "stdout",
          "text": [
            "{1, 2, 3, 4, 5, 6}\n",
            "{1, 2, 3, 4, 5, 6}\n"
          ]
        }
      ]
    },
    {
      "cell_type": "code",
      "source": [
        "# Removing an element (raises KeyError if element doesn't exist)\n",
        "my_set.remove(4)\n",
        "print(my_set)  # Output: {1, 2, 3, 5, 6}\n",
        "\n",
        "# Using discard() to remove an element (no error if element doesn't exist)\n",
        "my_set.discard(10)  # No effect as 10 is not in the set\n",
        "print(my_set)  # Output: {1, 2, 3, 5, 6}\n"
      ],
      "metadata": {
        "colab": {
          "base_uri": "https://localhost:8080/"
        },
        "id": "wVorwzUt0cjR",
        "outputId": "31129550-14ab-4c24-cfac-2eee31b9fca5"
      },
      "execution_count": 23,
      "outputs": [
        {
          "output_type": "stream",
          "name": "stdout",
          "text": [
            "{1, 2, 3, 5, 6}\n",
            "{1, 2, 3, 5, 6}\n"
          ]
        }
      ]
    },
    {
      "cell_type": "code",
      "source": [
        "#set operations\n",
        "#a)union\n",
        "set_a = {1, 2, 3}\n",
        "set_b = {3, 4, 5}\n",
        "union_set = set_a.union(set_b)\n",
        "print(union_set)  # Output: {1, 2, 3, 4, 5}\n"
      ],
      "metadata": {
        "colab": {
          "base_uri": "https://localhost:8080/"
        },
        "id": "gOfgeWdc0cyh",
        "outputId": "f45d43ae-ea7b-4f52-df36-b67028324d43"
      },
      "execution_count": 24,
      "outputs": [
        {
          "output_type": "stream",
          "name": "stdout",
          "text": [
            "{1, 2, 3, 4, 5}\n"
          ]
        }
      ]
    },
    {
      "cell_type": "code",
      "source": [
        "#b)intersection\n",
        "intersection_set = set_a.intersection(set_b)\n",
        "print(intersection_set)  # Output: {3}\n"
      ],
      "metadata": {
        "colab": {
          "base_uri": "https://localhost:8080/"
        },
        "id": "bqeh43It1HIA",
        "outputId": "7e0f857c-1f11-4fc1-a8b2-a963df03ccb5"
      },
      "execution_count": 25,
      "outputs": [
        {
          "output_type": "stream",
          "name": "stdout",
          "text": [
            "{3}\n"
          ]
        }
      ]
    },
    {
      "cell_type": "code",
      "source": [
        "#c)difference\n",
        "difference_set = set_a.difference(set_b)\n",
        "print(difference_set)  # Output: {1, 2}\n"
      ],
      "metadata": {
        "colab": {
          "base_uri": "https://localhost:8080/"
        },
        "id": "GmQZOyyC1Pvd",
        "outputId": "918357ed-38c3-4a71-ef37-d91a7524e6be"
      },
      "execution_count": 26,
      "outputs": [
        {
          "output_type": "stream",
          "name": "stdout",
          "text": [
            "{1, 2}\n"
          ]
        }
      ]
    },
    {
      "cell_type": "code",
      "source": [
        "#d)symmetric difference\n",
        "symmetric_diff_set = set_a.symmetric_difference(set_b)\n",
        "print(symmetric_diff_set)  # Output: {1, 2, 4, 5}\n"
      ],
      "metadata": {
        "colab": {
          "base_uri": "https://localhost:8080/"
        },
        "id": "0t_HJgnj1UsM",
        "outputId": "2bf77d31-15e9-427d-90f1-2da5393e989c"
      },
      "execution_count": 27,
      "outputs": [
        {
          "output_type": "stream",
          "name": "stdout",
          "text": [
            "{1, 2, 4, 5}\n"
          ]
        }
      ]
    },
    {
      "cell_type": "markdown",
      "source": [
        "6.Discuss the use cases of tuples and sets in python programming.\n",
        "\n",
        "\n",
        "Answer-\n",
        "\n",
        "\n",
        "In Python programming, both tuples and sets are fundamental data structures, but they are used in different contexts due to their unique properties. Let's break down their use cases and distinctions.\n",
        "\n",
        "Tuples\n",
        "\n",
        "\n",
        "A tuple is an ordered, immutable collection of elements. Once a tuple is created, its contents cannot be modified. Tuples are defined using parentheses ().\n",
        "\n",
        "\n",
        "\n",
        "Use Cases of Tuples:\n",
        "\n",
        "\n",
        "\n",
        "Immutable Data:\n",
        "\n",
        "\n",
        "Tuples are used to store data that should not be modified. For example, they are ideal for representing fixed collections of elements like coordinates (latitude, longitude) or RGB color values.\n",
        "Example: Storing (x, y) coordinates for points on a 2D plane.\n",
        "\n",
        "\n",
        "Multiple Return Values:\n",
        "\n",
        "\n",
        "Tuples are often used in functions to return multiple values at once. They allow the function to package several items in a single return statement.\n",
        "Example: A function that returns both the quotient and the remainder after dividing two numbers.\n",
        "\n",
        "\n",
        "Data Integrity:\n",
        "\n",
        "\n",
        "Since tuples are immutable, they provide a way to ensure data integrity, especially in multithreaded or distributed applications where you want to guarantee the data won't be changed.\n",
        "\n",
        "\n",
        "Key for Dictionaries:\n",
        "\n",
        "\n",
        "Tuples are hashable and can be used as dictionary keys, unlike lists which are mutable and cannot be used as dictionary keys. If you need a key consisting of multiple values, a tuple is a natural choice.\n",
        "\n"
      ],
      "metadata": {
        "id": "TTtwQjdJ1fru"
      }
    },
    {
      "cell_type": "markdown",
      "source": [
        "Sets\n",
        "\n",
        "\n",
        "A set is an unordered collection of unique elements. Sets are mutable, meaning their contents can be changed (items can be added or removed). They are defined using curly braces {} or the set() constructor.\n",
        "\n",
        "\n",
        "\n",
        "Use Cases of Sets:\n",
        "\n",
        "\n",
        "\n",
        "Eliminating Duplicates:\n",
        "\n",
        "\n",
        "Sets automatically remove duplicate elements. If you have a collection of items and you want to ensure there are no duplicates, using a set is an efficient way to do so.\n",
        "\n",
        "Set Operations:\n",
        "\n",
        "\n",
        "Sets are great for performing mathematical set operations like union, intersection, difference, and symmetric difference. These operations are efficient and useful in many algorithms.\n",
        "Example: Finding common elements between two lists.\n",
        "\n",
        "\n",
        "Membership Testing:\n",
        "\n",
        "\n",
        "Sets offer fast membership testing (i.e., checking if an element exists in the set) with an average time complexity of O(1). This makes sets very useful when you need to check for the presence of an item quickly.\n",
        "\n",
        "\n",
        "Mathematical Problems:\n",
        "\n",
        "\n",
        "Sets are ideal for solving problems that involve unique elements or mathematical concepts such as finding common or distinct elements between multiple groups.\n",
        "Example: Finding all the unique items across multiple lists.\n",
        "\n",
        "\n",
        "Efficient Deletion:\n",
        "\n",
        "\n",
        "Deleting an item from a set is efficient, and sets are optimized for quick removal of elements without any performance penalty, unlike lists which might require shifting elements when items are removed.\n",
        "\n",
        "\n",
        "Tracking Seen Items:\n",
        "\n",
        "\n",
        "In algorithms like web crawlers, or when implementing algorithms like finding duplicates in a large dataset, sets can be used to track whether an item has already been encountered.\n",
        "Example: Tracking unique IP addresses that visited a website.\n",
        "\n"
      ],
      "metadata": {
        "id": "sfeoBENc3mdi"
      }
    },
    {
      "cell_type": "markdown",
      "source": [
        "7.Describe how to add,modify,and delete items in a dictionaray with examples.\n",
        "\n",
        "\n",
        "Answer-\n",
        "\n",
        "\n",
        "In Python, dictionaries are mutable, meaning you can modify, add, and delete items from them. Here's how you can do each operation with examples:\n",
        "\n",
        "1. Adding Items to a Dictionary\n",
        "To add a new item to a dictionary, you can simply assign a value to a new key. If the key already exists, it will update the value for that key.\n",
        "\n",
        "\n",
        "2. Modifying Items in a Dictionary\n",
        "You can modify an existing item by simply assigning a new value to an existing key.\n",
        "\n",
        "\n",
        "3. Deleting Items from a Dictionary\n",
        "You can delete items using several methods:\n",
        "\n",
        "Using del keyword: This removes the item by its key.\n",
        "\n",
        "\n",
        "Using pop() method: This removes an item by key and returns its value.\n",
        "\n",
        "\n",
        "Using popitem() method: This removes and returns the last inserted key-value pair (useful for ordered dictionaries).\n",
        "\n",
        "summary:-\n",
        "\n",
        "Add items: my_dict[key] = value or my_dict.update({key: value})\n",
        "\n",
        "\n",
        "Modify items: my_dict[key] = new_value\n",
        "\n",
        "\n",
        "Delete items: del my_dict[key], my_dict.pop(key), or my_dict.popitem()"
      ],
      "metadata": {
        "id": "AI_7DPIo45UV"
      }
    },
    {
      "cell_type": "code",
      "source": [
        "# Initialize an empty dictionary\n",
        "my_dict = {}\n",
        "\n",
        "# Add items to the dictionary\n",
        "my_dict['name'] = 'John'  # Adding a key-value pair\n",
        "my_dict['age'] = 30\n",
        "\n",
        "print(my_dict)\n"
      ],
      "metadata": {
        "colab": {
          "base_uri": "https://localhost:8080/"
        },
        "id": "SgLHlRgnSluA",
        "outputId": "6e371998-2e49-4cbb-a030-88d11aeddc2a"
      },
      "execution_count": 1,
      "outputs": [
        {
          "output_type": "stream",
          "name": "stdout",
          "text": [
            "{'name': 'John', 'age': 30}\n"
          ]
        }
      ]
    },
    {
      "cell_type": "code",
      "source": [
        "# Add multiple items using update()\n",
        "my_dict.update({'city': 'New York', 'job': 'Developer'})\n",
        "\n",
        "print(my_dict)\n"
      ],
      "metadata": {
        "colab": {
          "base_uri": "https://localhost:8080/"
        },
        "id": "fxAmaxZTSl8_",
        "outputId": "ae892f94-1a72-40cf-eb92-df89c62993e5"
      },
      "execution_count": 2,
      "outputs": [
        {
          "output_type": "stream",
          "name": "stdout",
          "text": [
            "{'name': 'John', 'age': 30, 'city': 'New York', 'job': 'Developer'}\n"
          ]
        }
      ]
    },
    {
      "cell_type": "code",
      "source": [
        "# Modify an existing key-value pair\n",
        "my_dict['age'] = 31  # Modifying the value of 'age'\n",
        "\n",
        "print(my_dict)\n"
      ],
      "metadata": {
        "colab": {
          "base_uri": "https://localhost:8080/"
        },
        "id": "wmV8ywObSmL3",
        "outputId": "112858bd-a0c8-45e2-a864-29cf986b4c81"
      },
      "execution_count": 3,
      "outputs": [
        {
          "output_type": "stream",
          "name": "stdout",
          "text": [
            "{'name': 'John', 'age': 31, 'city': 'New York', 'job': 'Developer'}\n"
          ]
        }
      ]
    },
    {
      "cell_type": "code",
      "source": [
        "# Delete an item using del\n",
        "del my_dict['job']\n",
        "\n",
        "print(my_dict)\n"
      ],
      "metadata": {
        "colab": {
          "base_uri": "https://localhost:8080/"
        },
        "id": "XjbphIMIS2A-",
        "outputId": "23b47156-b972-40f2-b489-c28334c1359b"
      },
      "execution_count": 4,
      "outputs": [
        {
          "output_type": "stream",
          "name": "stdout",
          "text": [
            "{'name': 'John', 'age': 31, 'city': 'New York'}\n"
          ]
        }
      ]
    },
    {
      "cell_type": "code",
      "source": [
        "# Delete and return the value of a key\n",
        "removed_item = my_dict.pop('city')\n",
        "\n",
        "print(f\"Removed item: {removed_item}\")\n",
        "print(my_dict)\n"
      ],
      "metadata": {
        "colab": {
          "base_uri": "https://localhost:8080/"
        },
        "id": "vFra9JxBS2JN",
        "outputId": "46c7d5cd-31a8-4c1b-9df9-12e846a93345"
      },
      "execution_count": 5,
      "outputs": [
        {
          "output_type": "stream",
          "name": "stdout",
          "text": [
            "Removed item: New York\n",
            "{'name': 'John', 'age': 31}\n"
          ]
        }
      ]
    },
    {
      "cell_type": "code",
      "source": [
        "# Delete and return the last inserted item\n",
        "last_item = my_dict.popitem()\n",
        "\n",
        "print(f\"Last item removed: {last_item}\")\n",
        "print(my_dict)\n"
      ],
      "metadata": {
        "colab": {
          "base_uri": "https://localhost:8080/"
        },
        "id": "wFgqK0stS2Xc",
        "outputId": "3f0fdce4-b701-4bcf-e650-a6fc6926ff0d"
      },
      "execution_count": 6,
      "outputs": [
        {
          "output_type": "stream",
          "name": "stdout",
          "text": [
            "Last item removed: ('age', 31)\n",
            "{'name': 'John'}\n"
          ]
        }
      ]
    },
    {
      "cell_type": "markdown",
      "source": [
        "8.Discuss the importance of dictionary keys being immutable and provide examples.\n",
        "\n",
        "\n",
        "Answer-\n",
        "\n",
        "\n",
        "In Python, dictionary keys must be immutable objects. This requirement is crucial because dictionary keys are used to uniquely identify and access values. Immutability ensures that the keys remain consistent and can be used reliably for hashing, which is the underlying mechanism for efficiently retrieving values in a dictionary.\n",
        "\n",
        "\n",
        "\n",
        "Why Must Dictionary Keys Be Immutable?\n",
        "\n",
        "\n",
        "Hashing Consistency: Dictionaries in Python are implemented using hash tables. When you create a dictionary, each key is hashed, which generates a unique hash value for that key. This hash value is used to quickly locate the corresponding value.\n",
        "If a key were mutable (i.e., its value could change), the hash value might change after it is used as a key in the dictionary. This would break the dictionary’s ability to retrieve the value, as the hash would no longer match the stored location.\n",
        "\n",
        "\n",
        "Ensuring Uniqueness: Immutability ensures that the key will always remain the same, preserving the uniqueness of each key in the dictionary. If a mutable object (such as a list) were used as a key, its value could change over time, causing unpredictable behavior in the dictionary.In Python, dictionary keys must be immutable objects. This requirement is crucial because dictionary keys are used to uniquely identify and access values. Immutability ensures that the keys remain consistent and can be used reliably for hashing, which is the underlying mechanism for efficiently retrieving values in a dictionary.\n",
        "\n",
        "\n",
        "\n",
        "Predictability and Stability: Since immutable objects cannot change, the dictionary's integrity is maintained. If a mutable object could be used as a key, it could unintentionally change, leading to issues with data retrieval and consistency.\n",
        "\n",
        "\n",
        "Efficiency in Lookup and Deletion: Hashing provides constant-time complexity for lookups and deletions. This would be difficult to maintain if dictionary keys could change, as the hash value might shift, requiring re-hashing and reorganization of the underlying hash table.\n",
        "\n",
        "\n",
        "Why Certain Types Are Immutable\n",
        "\n",
        "\n",
        "Numbers and Strings: Numbers (integers, floats) and strings are immutable because they are simple data types that are not meant to change after creation. This makes them reliable as dictionary keys, ensuring that their hash values are consistent.\n",
        "\n",
        "\n",
        "Tuples (with Immutable Elements): Tuples themselves are immutable because they are designed to hold an ordered collection of elements. As long as the tuple contains only immutable elements (e.g., numbers, strings, and other tuples), it can safely be used as a dictionary key.\n",
        "\n",
        "\n",
        "frozensets: A frozenset is an immutable version of a set, meaning its elements cannot be changed after creation. Thus, it can be used as a dictionary key, unlike regular sets.\n",
        "\n",
        "\n",
        "Conclusion\n",
        "\n",
        "\n",
        "The requirement that dictionary keys be immutable is crucial for the integrity and efficiency of Python's dictionary implementation. Immutability ensures that keys remain hashable, which in turn guarantees the dictionary's performance in lookups, insertions, and deletions. It also ensures that dictionary behavior is predictable, as the keys cannot change unexpectedly after being used.\n"
      ],
      "metadata": {
        "id": "fFLP3l2DTF-e"
      }
    },
    {
      "cell_type": "code",
      "source": [
        "#intengers are immutable so they can be used as dictionary\n",
        "my_dict = {42: \"The answer to life\"}\n",
        "print(my_dict[42])  # Output: \"The answer to life\"\n"
      ],
      "metadata": {
        "colab": {
          "base_uri": "https://localhost:8080/"
        },
        "id": "7zizt8jPVtaQ",
        "outputId": "3df7be1e-a1eb-4e6c-a872-c5acbffd1296"
      },
      "execution_count": 7,
      "outputs": [
        {
          "output_type": "stream",
          "name": "stdout",
          "text": [
            "The answer to life\n"
          ]
        }
      ]
    },
    {
      "cell_type": "code",
      "source": [
        "#strings\n",
        "my_dict = {\"name\": \"Alice\", \"age\": 30}\n",
        "print(my_dict[\"name\"])  # Output: Alice\n"
      ],
      "metadata": {
        "colab": {
          "base_uri": "https://localhost:8080/"
        },
        "id": "mfwUDM2PVtqS",
        "outputId": "a5b81404-c0d7-4eb5-e4a9-7b75c97c90d2"
      },
      "execution_count": 8,
      "outputs": [
        {
          "output_type": "stream",
          "name": "stdout",
          "text": [
            "Alice\n"
          ]
        }
      ]
    },
    {
      "cell_type": "code",
      "source": [
        "#tuples\n",
        "my_dict = {(\"name\", \"Alice\"): \"Person info\"}\n",
        "print(my_dict[(\"name\", \"Alice\")])  # Output: Person info\n"
      ],
      "metadata": {
        "colab": {
          "base_uri": "https://localhost:8080/"
        },
        "id": "IK148-biVt1S",
        "outputId": "7fdeaccd-fb15-4de1-ac9f-233424cdc2f0"
      },
      "execution_count": 9,
      "outputs": [
        {
          "output_type": "stream",
          "name": "stdout",
          "text": [
            "Person info\n"
          ]
        }
      ]
    }
  ]
}